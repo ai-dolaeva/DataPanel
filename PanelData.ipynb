{
  "nbformat": 4,
  "nbformat_minor": 0,
  "metadata": {
    "colab": {
      "name": "PanelData.ipynb",
      "provenance": [],
      "authorship_tag": "ABX9TyNrsrWTj19G1IZkSTDJIsXX",
      "include_colab_link": true
    },
    "kernelspec": {
      "name": "python3",
      "display_name": "Python 3"
    },
    "language_info": {
      "name": "python"
    }
  },
  "cells": [
    {
      "cell_type": "markdown",
      "metadata": {
        "id": "view-in-github",
        "colab_type": "text"
      },
      "source": [
        "<a href=\"https://colab.research.google.com/github/ai-dolaeva/DataPanel/blob/main/PanelData.ipynb\" target=\"_parent\"><img src=\"https://colab.research.google.com/assets/colab-badge.svg\" alt=\"Open In Colab\"/></a>"
      ]
    },
    {
      "cell_type": "code",
      "metadata": {
        "colab": {
          "base_uri": "https://localhost:8080/"
        },
        "id": "oK6GPPi9hW-X",
        "outputId": "13e063b8-a456-4dbe-87ea-29fce37bed36"
      },
      "source": [
        "from google.colab import drive\n",
        "drive.mount('/content/drive')"
      ],
      "execution_count": null,
      "outputs": [
        {
          "output_type": "stream",
          "name": "stdout",
          "text": [
            "Mounted at /content/drive\n"
          ]
        }
      ]
    },
    {
      "cell_type": "code",
      "metadata": {
        "id": "Q-17QxNbtEP0"
      },
      "source": [
        ""
      ],
      "execution_count": null,
      "outputs": []
    },
    {
      "cell_type": "code",
      "metadata": {
        "colab": {
          "base_uri": "https://localhost:8080/"
        },
        "id": "vXLduqAihZ1f",
        "outputId": "8a4e8ad1-811a-42b1-c4ce-03cb24abd7dc"
      },
      "source": [
        "cd drive/MyDrive/'Учебная практика'/'sent'/"
      ],
      "execution_count": null,
      "outputs": [
        {
          "output_type": "stream",
          "name": "stdout",
          "text": [
            "/content/drive/MyDrive/Учебная практика/sent\n"
          ]
        }
      ]
    },
    {
      "cell_type": "code",
      "metadata": {
        "id": "d53tezcXhZ6k"
      },
      "source": [
        ""
      ],
      "execution_count": null,
      "outputs": []
    },
    {
      "cell_type": "code",
      "metadata": {
        "id": "zUAwY__shZ_k"
      },
      "source": [
        "import pandas as pd\n",
        "import numpy as np\n",
        "from datetime import datetime, date, time, timedelta\n",
        "import statistics\n",
        "from linearmodels import PanelOLS, RandomEffects"
      ],
      "execution_count": null,
      "outputs": []
    },
    {
      "cell_type": "code",
      "metadata": {
        "id": "HgvRhdjShjLd"
      },
      "source": [
        "# import numpy as np\n",
        "# import pandas as pd\n",
        "\n",
        "# company = np.array(['adobe']*171+['apple']*171+['disney']*171+['hbo']*171+\n",
        "#                    ['ibm']*171+['microsoft']*171+['netflix']*171+['nvidia']*171+\n",
        "#                    ['qualcomm']*171+['salesforce']*171+['servicenow']*171+['showtime']*171)\n",
        "\n",
        "# time_temp = []\n",
        "# for i in range(171):\n",
        "#   time_temp.append(i)\n",
        "\n",
        "# time = np.array(time_temp*12)\n",
        "\n",
        "# sent = [0.0]*171*12\n",
        "# df = pd.DataFrame(zip(company, time, sent), columns=['company', 'time', 'sent'])\n",
        "# df.set_index(['company', 'time'], inplace=True)\n",
        "# df"
      ],
      "execution_count": null,
      "outputs": []
    },
    {
      "cell_type": "code",
      "metadata": {
        "id": "mFFlY_1thfB9"
      },
      "source": [
        "# adobe apple disney hbo ibm microsoft netflix nvidia qualcomm salesforce servicenow showtime"
      ],
      "execution_count": null,
      "outputs": []
    },
    {
      "cell_type": "code",
      "metadata": {
        "id": "gu9ifnZMhfE4"
      },
      "source": [
        "name_comp = 'showtime'\n",
        "\n",
        "path = '{0}_month.csv'.format(name_comp)\n",
        "full_date = pd.read_csv(path, encoding=\"latin1\", header = 0, error_bad_lines=False, delimiter=\",\")\n",
        "# full_date"
      ],
      "execution_count": null,
      "outputs": []
    },
    {
      "cell_type": "code",
      "metadata": {
        "id": "KY8UqYobnDPy"
      },
      "source": [
        "values = ['dpr',\t'dta',\t'fl',\t'mc',\t'mv',\t'pe',\t'sgr',\t'tr',\t'sent']"
      ],
      "execution_count": null,
      "outputs": []
    },
    {
      "cell_type": "code",
      "metadata": {
        "id": "n87PhZWJlsQb"
      },
      "source": [
        "for name_value in values:\n",
        "  for i in range(171):\n",
        "    df[name_value][name_comp][i] = full_date[name_value][i]\n",
        "\n",
        "\n",
        "# name_value ='sent'\n",
        "# # df[name_value] = 0.0\n",
        "# df\n",
        "\n",
        "# for i in range(171):\n",
        "#   df[name_value][name_comp][i] = full_date[name_value][i]\n",
        "# df[name_value][name_comp]"
      ],
      "execution_count": null,
      "outputs": []
    },
    {
      "cell_type": "code",
      "metadata": {
        "colab": {
          "base_uri": "https://localhost:8080/",
          "height": 450
        },
        "id": "1GmJZSURpBHA",
        "outputId": "65b78afd-3a12-4209-fdf6-05a953489192"
      },
      "source": [
        "df"
      ],
      "execution_count": null,
      "outputs": [
        {
          "output_type": "execute_result",
          "data": {
            "text/html": [
              "<div>\n",
              "<style scoped>\n",
              "    .dataframe tbody tr th:only-of-type {\n",
              "        vertical-align: middle;\n",
              "    }\n",
              "\n",
              "    .dataframe tbody tr th {\n",
              "        vertical-align: top;\n",
              "    }\n",
              "\n",
              "    .dataframe thead th {\n",
              "        text-align: right;\n",
              "    }\n",
              "</style>\n",
              "<table border=\"1\" class=\"dataframe\">\n",
              "  <thead>\n",
              "    <tr style=\"text-align: right;\">\n",
              "      <th></th>\n",
              "      <th></th>\n",
              "      <th>sent</th>\n",
              "      <th>dpr</th>\n",
              "      <th>dta</th>\n",
              "      <th>fl</th>\n",
              "      <th>mc</th>\n",
              "      <th>mv</th>\n",
              "      <th>pe</th>\n",
              "      <th>sgr</th>\n",
              "      <th>tr</th>\n",
              "    </tr>\n",
              "    <tr>\n",
              "      <th>company</th>\n",
              "      <th>time</th>\n",
              "      <th></th>\n",
              "      <th></th>\n",
              "      <th></th>\n",
              "      <th></th>\n",
              "      <th></th>\n",
              "      <th></th>\n",
              "      <th></th>\n",
              "      <th></th>\n",
              "      <th></th>\n",
              "    </tr>\n",
              "  </thead>\n",
              "  <tbody>\n",
              "    <tr>\n",
              "      <th rowspan=\"5\" valign=\"top\">adobe</th>\n",
              "      <th>0</th>\n",
              "      <td>0.100000</td>\n",
              "      <td>3.444000</td>\n",
              "      <td>1.783000</td>\n",
              "      <td>0.034390</td>\n",
              "      <td>2.408667</td>\n",
              "      <td>1.448667</td>\n",
              "      <td>1.451333</td>\n",
              "      <td>0.270</td>\n",
              "      <td>0.033360</td>\n",
              "    </tr>\n",
              "    <tr>\n",
              "      <th>1</th>\n",
              "      <td>0.100000</td>\n",
              "      <td>6.888000</td>\n",
              "      <td>3.566000</td>\n",
              "      <td>0.068780</td>\n",
              "      <td>4.845333</td>\n",
              "      <td>2.830333</td>\n",
              "      <td>2.878000</td>\n",
              "      <td>0.540</td>\n",
              "      <td>0.066720</td>\n",
              "    </tr>\n",
              "    <tr>\n",
              "      <th>2</th>\n",
              "      <td>0.527778</td>\n",
              "      <td>23.831333</td>\n",
              "      <td>11.793333</td>\n",
              "      <td>0.227007</td>\n",
              "      <td>15.857333</td>\n",
              "      <td>15.323333</td>\n",
              "      <td>9.459667</td>\n",
              "      <td>1.800</td>\n",
              "      <td>0.222213</td>\n",
              "    </tr>\n",
              "    <tr>\n",
              "      <th>3</th>\n",
              "      <td>0.563889</td>\n",
              "      <td>39.591667</td>\n",
              "      <td>13.691667</td>\n",
              "      <td>0.258333</td>\n",
              "      <td>19.272333</td>\n",
              "      <td>14.329333</td>\n",
              "      <td>12.293667</td>\n",
              "      <td>2.250</td>\n",
              "      <td>0.275667</td>\n",
              "    </tr>\n",
              "    <tr>\n",
              "      <th>4</th>\n",
              "      <td>0.565000</td>\n",
              "      <td>36.424333</td>\n",
              "      <td>12.596333</td>\n",
              "      <td>0.237667</td>\n",
              "      <td>18.252333</td>\n",
              "      <td>8.578333</td>\n",
              "      <td>11.644333</td>\n",
              "      <td>2.070</td>\n",
              "      <td>0.253613</td>\n",
              "    </tr>\n",
              "    <tr>\n",
              "      <th>...</th>\n",
              "      <th>...</th>\n",
              "      <td>...</td>\n",
              "      <td>...</td>\n",
              "      <td>...</td>\n",
              "      <td>...</td>\n",
              "      <td>...</td>\n",
              "      <td>...</td>\n",
              "      <td>...</td>\n",
              "      <td>...</td>\n",
              "      <td>...</td>\n",
              "    </tr>\n",
              "    <tr>\n",
              "      <th rowspan=\"5\" valign=\"top\">showtime</th>\n",
              "      <th>166</th>\n",
              "      <td>0.816600</td>\n",
              "      <td>44.240000</td>\n",
              "      <td>38.350000</td>\n",
              "      <td>1.355000</td>\n",
              "      <td>19.384000</td>\n",
              "      <td>27.749000</td>\n",
              "      <td>14.173667</td>\n",
              "      <td>12.750</td>\n",
              "      <td>0.548200</td>\n",
              "    </tr>\n",
              "    <tr>\n",
              "      <th>167</th>\n",
              "      <td>0.815267</td>\n",
              "      <td>31.260000</td>\n",
              "      <td>37.763333</td>\n",
              "      <td>1.307667</td>\n",
              "      <td>18.817000</td>\n",
              "      <td>28.659000</td>\n",
              "      <td>13.844667</td>\n",
              "      <td>12.750</td>\n",
              "      <td>0.509800</td>\n",
              "    </tr>\n",
              "    <tr>\n",
              "      <th>168</th>\n",
              "      <td>0.826067</td>\n",
              "      <td>24.770000</td>\n",
              "      <td>37.470000</td>\n",
              "      <td>1.284000</td>\n",
              "      <td>19.252667</td>\n",
              "      <td>34.773333</td>\n",
              "      <td>14.189000</td>\n",
              "      <td>12.750</td>\n",
              "      <td>0.490600</td>\n",
              "    </tr>\n",
              "    <tr>\n",
              "      <th>169</th>\n",
              "      <td>0.802933</td>\n",
              "      <td>24.770000</td>\n",
              "      <td>37.470000</td>\n",
              "      <td>1.284000</td>\n",
              "      <td>22.550667</td>\n",
              "      <td>38.319000</td>\n",
              "      <td>16.605333</td>\n",
              "      <td>12.750</td>\n",
              "      <td>0.490600</td>\n",
              "    </tr>\n",
              "    <tr>\n",
              "      <th>170</th>\n",
              "      <td>0.285933</td>\n",
              "      <td>9.082333</td>\n",
              "      <td>13.739000</td>\n",
              "      <td>0.470800</td>\n",
              "      <td>8.380000</td>\n",
              "      <td>10.255000</td>\n",
              "      <td>6.171000</td>\n",
              "      <td>4.675</td>\n",
              "      <td>0.179887</td>\n",
              "    </tr>\n",
              "  </tbody>\n",
              "</table>\n",
              "<p>2052 rows × 9 columns</p>\n",
              "</div>"
            ],
            "text/plain": [
              "                   sent        dpr        dta  ...         pe     sgr        tr\n",
              "company  time                                  ...                             \n",
              "adobe    0     0.100000   3.444000   1.783000  ...   1.451333   0.270  0.033360\n",
              "         1     0.100000   6.888000   3.566000  ...   2.878000   0.540  0.066720\n",
              "         2     0.527778  23.831333  11.793333  ...   9.459667   1.800  0.222213\n",
              "         3     0.563889  39.591667  13.691667  ...  12.293667   2.250  0.275667\n",
              "         4     0.565000  36.424333  12.596333  ...  11.644333   2.070  0.253613\n",
              "...                 ...        ...        ...  ...        ...     ...       ...\n",
              "showtime 166   0.816600  44.240000  38.350000  ...  14.173667  12.750  0.548200\n",
              "         167   0.815267  31.260000  37.763333  ...  13.844667  12.750  0.509800\n",
              "         168   0.826067  24.770000  37.470000  ...  14.189000  12.750  0.490600\n",
              "         169   0.802933  24.770000  37.470000  ...  16.605333  12.750  0.490600\n",
              "         170   0.285933   9.082333  13.739000  ...   6.171000   4.675  0.179887\n",
              "\n",
              "[2052 rows x 9 columns]"
            ]
          },
          "metadata": {},
          "execution_count": 137
        }
      ]
    },
    {
      "cell_type": "code",
      "metadata": {
        "colab": {
          "base_uri": "https://localhost:8080/"
        },
        "id": "G8dJcVM1qv7b",
        "outputId": "34d24500-a384-4bfa-f321-45fb98fb84bf"
      },
      "source": [
        "Y = df['pe']\n",
        "Y"
      ],
      "execution_count": null,
      "outputs": [
        {
          "output_type": "execute_result",
          "data": {
            "text/plain": [
              "company   time\n",
              "adobe     0        1.451333\n",
              "          1        2.878000\n",
              "          2        9.459667\n",
              "          3       12.293667\n",
              "          4       11.644333\n",
              "                    ...    \n",
              "showtime  166     14.173667\n",
              "          167     13.844667\n",
              "          168     14.189000\n",
              "          169     16.605333\n",
              "          170      6.171000\n",
              "Name: pe, Length: 2052, dtype: float64"
            ]
          },
          "metadata": {},
          "execution_count": 138
        }
      ]
    },
    {
      "cell_type": "code",
      "metadata": {
        "id": "wPLOWmrEqwFH"
      },
      "source": [
        "dd = ['dpr',\t'dta',\t'fl',\t'mc',\t'mv',\t'sgr',\t'tr',\t'sent']"
      ],
      "execution_count": null,
      "outputs": []
    },
    {
      "cell_type": "code",
      "metadata": {
        "id": "t2YLFS_lrKsz"
      },
      "source": [
        ""
      ],
      "execution_count": null,
      "outputs": []
    },
    {
      "cell_type": "code",
      "metadata": {
        "id": "xzl9gv3grKvt"
      },
      "source": [
        "dif_in_dif = PanelOLS(Y, df[dd]).fit(cov_type='clustered', cluster_entity=True)"
      ],
      "execution_count": null,
      "outputs": []
    },
    {
      "cell_type": "code",
      "metadata": {
        "colab": {
          "base_uri": "https://localhost:8080/",
          "height": 652
        },
        "id": "nYX-zWw8rKyR",
        "outputId": "54919752-1b5e-4864-8e54-18ab822c7216"
      },
      "source": [
        "dif_in_dif"
      ],
      "execution_count": null,
      "outputs": [
        {
          "output_type": "execute_result",
          "data": {
            "text/html": [
              "<table class=\"simpletable\">\n",
              "<caption>PanelOLS Estimation Summary</caption>\n",
              "<tr>\n",
              "  <th>Dep. Variable:</th>           <td>pe</td>        <th>  R-squared:         </th>     <td>0.2850</td>  \n",
              "</tr>\n",
              "<tr>\n",
              "  <th>Estimator:</th>            <td>PanelOLS</td>     <th>  R-squared (Between):</th>    <td>0.3999</td>  \n",
              "</tr>\n",
              "<tr>\n",
              "  <th>No. Observations:</th>       <td>2052</td>       <th>  R-squared (Within):</th>     <td>0.0992</td>  \n",
              "</tr>\n",
              "<tr>\n",
              "  <th>Date:</th>             <td>Thu, Oct 21 2021</td> <th>  R-squared (Overall):</th>    <td>0.2850</td>  \n",
              "</tr>\n",
              "<tr>\n",
              "  <th>Time:</th>                 <td>02:29:22</td>     <th>  Log-likelihood     </th>   <td>-2.042e+04</td>\n",
              "</tr>\n",
              "<tr>\n",
              "  <th>Cov. Estimator:</th>       <td>Clustered</td>    <th>                     </th>        <td></td>     \n",
              "</tr>\n",
              "<tr>\n",
              "  <th></th>                          <td></td>         <th>  F-statistic:       </th>     <td>101.82</td>  \n",
              "</tr>\n",
              "<tr>\n",
              "  <th>Entities:</th>                <td>12</td>        <th>  P-value            </th>     <td>0.0000</td>  \n",
              "</tr>\n",
              "<tr>\n",
              "  <th>Avg Obs:</th>               <td>171.00</td>      <th>  Distribution:      </th>    <td>F(8,2044)</td>\n",
              "</tr>\n",
              "<tr>\n",
              "  <th>Min Obs:</th>               <td>171.00</td>      <th>                     </th>        <td></td>     \n",
              "</tr>\n",
              "<tr>\n",
              "  <th>Max Obs:</th>               <td>171.00</td>      <th>  F-statistic (robust):</th>   <td>0.3309</td>  \n",
              "</tr>\n",
              "<tr>\n",
              "  <th></th>                          <td></td>         <th>  P-value            </th>     <td>0.9544</td>  \n",
              "</tr>\n",
              "<tr>\n",
              "  <th>Time periods:</th>            <td>171</td>       <th>  Distribution:      </th>    <td>F(8,2044)</td>\n",
              "</tr>\n",
              "<tr>\n",
              "  <th>Avg Obs:</th>               <td>12.000</td>      <th>                     </th>        <td></td>     \n",
              "</tr>\n",
              "<tr>\n",
              "  <th>Min Obs:</th>               <td>12.000</td>      <th>                     </th>        <td></td>     \n",
              "</tr>\n",
              "<tr>\n",
              "  <th>Max Obs:</th>               <td>12.000</td>      <th>                     </th>        <td></td>     \n",
              "</tr>\n",
              "<tr>\n",
              "  <th></th>                          <td></td>         <th>                     </th>        <td></td>     \n",
              "</tr>\n",
              "</table>\n",
              "<table class=\"simpletable\">\n",
              "<caption>Parameter Estimates</caption>\n",
              "<tr>\n",
              "    <td></td>   <th>Parameter</th> <th>Std. Err.</th> <th>T-stat</th>  <th>P-value</th> <th>Lower CI</th> <th>Upper CI</th> \n",
              "</tr>\n",
              "<tr>\n",
              "  <th>dpr</th>   <td>-10.122</td>   <td>9.7059</td>   <td>-1.0429</td> <td>0.2971</td>   <td>-29.157</td>  <td>8.9122</td>  \n",
              "</tr>\n",
              "<tr>\n",
              "  <th>dta</th>   <td>-52.784</td>   <td>71.577</td>   <td>-0.7374</td> <td>0.4609</td>   <td>-193.15</td>  <td>87.587</td>  \n",
              "</tr>\n",
              "<tr>\n",
              "  <th>fl</th>    <td>490.88</td>    <td>705.86</td>   <td>0.6954</td>  <td>0.4869</td>   <td>-893.39</td>  <td>1875.2</td>  \n",
              "</tr>\n",
              "<tr>\n",
              "  <th>mc</th>    <td>0.1815</td>    <td>1.1861</td>   <td>0.1530</td>  <td>0.8784</td>   <td>-2.1445</td>  <td>2.5076</td>  \n",
              "</tr>\n",
              "<tr>\n",
              "  <th>mv</th>    <td>-20.099</td>   <td>17.463</td>   <td>-1.1509</td> <td>0.2499</td>   <td>-54.346</td>  <td>14.148</td>  \n",
              "</tr>\n",
              "<tr>\n",
              "  <th>sgr</th>   <td>-116.98</td>   <td>76.391</td>   <td>-1.5313</td> <td>0.1259</td>   <td>-266.79</td>  <td>32.835</td>  \n",
              "</tr>\n",
              "<tr>\n",
              "  <th>tr</th>    <td>2535.3</td>    <td>1884.2</td>   <td>1.3456</td>  <td>0.1786</td>   <td>-1159.8</td>  <td>6230.4</td>  \n",
              "</tr>\n",
              "<tr>\n",
              "  <th>sent</th>  <td>4121.6</td>    <td>3937.7</td>   <td>1.0467</td>  <td>0.2954</td>   <td>-3600.7</td> <td>1.184e+04</td>\n",
              "</tr>\n",
              "</table><br/><br/><br/>id: 0x7ff934460150"
            ],
            "text/plain": [
              "                          PanelOLS Estimation Summary                           \n",
              "================================================================================\n",
              "Dep. Variable:                     pe   R-squared:                        0.2850\n",
              "Estimator:                   PanelOLS   R-squared (Between):              0.3999\n",
              "No. Observations:                2052   R-squared (Within):               0.0992\n",
              "Date:                Thu, Oct 21 2021   R-squared (Overall):              0.2850\n",
              "Time:                        02:29:22   Log-likelihood                -2.042e+04\n",
              "Cov. Estimator:             Clustered                                           \n",
              "                                        F-statistic:                      101.82\n",
              "Entities:                          12   P-value                           0.0000\n",
              "Avg Obs:                       171.00   Distribution:                  F(8,2044)\n",
              "Min Obs:                       171.00                                           \n",
              "Max Obs:                       171.00   F-statistic (robust):             0.3309\n",
              "                                        P-value                           0.9544\n",
              "Time periods:                     171   Distribution:                  F(8,2044)\n",
              "Avg Obs:                       12.000                                           \n",
              "Min Obs:                       12.000                                           \n",
              "Max Obs:                       12.000                                           \n",
              "                                                                                \n",
              "                             Parameter Estimates                              \n",
              "==============================================================================\n",
              "            Parameter  Std. Err.     T-stat    P-value    Lower CI    Upper CI\n",
              "------------------------------------------------------------------------------\n",
              "dpr           -10.122     9.7059    -1.0429     0.2971     -29.157      8.9122\n",
              "dta           -52.784     71.577    -0.7374     0.4609     -193.15      87.587\n",
              "fl             490.88     705.86     0.6954     0.4869     -893.39      1875.2\n",
              "mc             0.1815     1.1861     0.1530     0.8784     -2.1445      2.5076\n",
              "mv            -20.099     17.463    -1.1509     0.2499     -54.346      14.148\n",
              "sgr           -116.98     76.391    -1.5313     0.1259     -266.79      32.835\n",
              "tr             2535.3     1884.2     1.3456     0.1786     -1159.8      6230.4\n",
              "sent           4121.6     3937.7     1.0467     0.2954     -3600.7   1.184e+04\n",
              "==============================================================================\n",
              "\n",
              "\n",
              "PanelEffectsResults, id: 0x7ff934460150"
            ]
          },
          "metadata": {},
          "execution_count": 145
        }
      ]
    },
    {
      "cell_type": "code",
      "metadata": {
        "id": "8TzHFgjHrumL"
      },
      "source": [
        ""
      ],
      "execution_count": null,
      "outputs": []
    },
    {
      "cell_type": "code",
      "metadata": {
        "colab": {
          "base_uri": "https://localhost:8080/",
          "height": 720
        },
        "id": "79ysQLvErupY",
        "outputId": "7dd15f60-e94d-401e-8613-c21bf645f931"
      },
      "source": [
        "dif_in_dif = PanelOLS(Y, df[dd], entity_effects=True).fit(cov_type='clustered', cluster_entity=True)\n",
        "dif_in_dif"
      ],
      "execution_count": null,
      "outputs": [
        {
          "output_type": "execute_result",
          "data": {
            "text/html": [
              "<table class=\"simpletable\">\n",
              "<caption>PanelOLS Estimation Summary</caption>\n",
              "<tr>\n",
              "  <th>Dep. Variable:</th>           <td>pe</td>        <th>  R-squared:         </th>     <td>0.3376</td>  \n",
              "</tr>\n",
              "<tr>\n",
              "  <th>Estimator:</th>            <td>PanelOLS</td>     <th>  R-squared (Between):</th>    <td>-1.3263</td> \n",
              "</tr>\n",
              "<tr>\n",
              "  <th>No. Observations:</th>       <td>2052</td>       <th>  R-squared (Within):</th>     <td>0.3376</td>  \n",
              "</tr>\n",
              "<tr>\n",
              "  <th>Date:</th>             <td>Thu, Oct 21 2021</td> <th>  R-squared (Overall):</th>    <td>-0.6902</td> \n",
              "</tr>\n",
              "<tr>\n",
              "  <th>Time:</th>                 <td>02:30:54</td>     <th>  Log-likelihood     </th>   <td>-1.935e+04</td>\n",
              "</tr>\n",
              "<tr>\n",
              "  <th>Cov. Estimator:</th>       <td>Clustered</td>    <th>                     </th>        <td></td>     \n",
              "</tr>\n",
              "<tr>\n",
              "  <th></th>                          <td></td>         <th>  F-statistic:       </th>     <td>129.43</td>  \n",
              "</tr>\n",
              "<tr>\n",
              "  <th>Entities:</th>                <td>12</td>        <th>  P-value            </th>     <td>0.0000</td>  \n",
              "</tr>\n",
              "<tr>\n",
              "  <th>Avg Obs:</th>               <td>171.00</td>      <th>  Distribution:      </th>    <td>F(8,2032)</td>\n",
              "</tr>\n",
              "<tr>\n",
              "  <th>Min Obs:</th>               <td>171.00</td>      <th>                     </th>        <td></td>     \n",
              "</tr>\n",
              "<tr>\n",
              "  <th>Max Obs:</th>               <td>171.00</td>      <th>  F-statistic (robust):</th>   <td>10.754</td>  \n",
              "</tr>\n",
              "<tr>\n",
              "  <th></th>                          <td></td>         <th>  P-value            </th>     <td>0.0000</td>  \n",
              "</tr>\n",
              "<tr>\n",
              "  <th>Time periods:</th>            <td>171</td>       <th>  Distribution:      </th>    <td>F(8,2032)</td>\n",
              "</tr>\n",
              "<tr>\n",
              "  <th>Avg Obs:</th>               <td>12.000</td>      <th>                     </th>        <td></td>     \n",
              "</tr>\n",
              "<tr>\n",
              "  <th>Min Obs:</th>               <td>12.000</td>      <th>                     </th>        <td></td>     \n",
              "</tr>\n",
              "<tr>\n",
              "  <th>Max Obs:</th>               <td>12.000</td>      <th>                     </th>        <td></td>     \n",
              "</tr>\n",
              "<tr>\n",
              "  <th></th>                          <td></td>         <th>                     </th>        <td></td>     \n",
              "</tr>\n",
              "</table>\n",
              "<table class=\"simpletable\">\n",
              "<caption>Parameter Estimates</caption>\n",
              "<tr>\n",
              "    <td></td>   <th>Parameter</th> <th>Std. Err.</th> <th>T-stat</th>  <th>P-value</th> <th>Lower CI</th> <th>Upper CI</th> \n",
              "</tr>\n",
              "<tr>\n",
              "  <th>dpr</th>   <td>-2.3167</td>   <td>2.6946</td>   <td>-0.8598</td> <td>0.3900</td>   <td>-7.6012</td>  <td>2.9677</td>  \n",
              "</tr>\n",
              "<tr>\n",
              "  <th>dta</th>   <td>-5.4873</td>   <td>16.092</td>   <td>-0.3410</td> <td>0.7331</td>   <td>-37.047</td>  <td>26.072</td>  \n",
              "</tr>\n",
              "<tr>\n",
              "  <th>fl</th>    <td>22.151</td>    <td>147.83</td>   <td>0.1498</td>  <td>0.8809</td>   <td>-267.76</td>  <td>312.06</td>  \n",
              "</tr>\n",
              "<tr>\n",
              "  <th>mc</th>    <td>-0.9554</td>   <td>1.0477</td>   <td>-0.9119</td> <td>0.3619</td>   <td>-3.0100</td>  <td>1.0993</td>  \n",
              "</tr>\n",
              "<tr>\n",
              "  <th>mv</th>    <td>3.7058</td>    <td>4.6379</td>   <td>0.7990</td>  <td>0.4244</td>   <td>-5.3897</td>  <td>12.801</td>  \n",
              "</tr>\n",
              "<tr>\n",
              "  <th>sgr</th>   <td>-50.356</td>   <td>32.535</td>   <td>-1.5477</td> <td>0.1218</td>   <td>-114.16</td>  <td>13.450</td>  \n",
              "</tr>\n",
              "<tr>\n",
              "  <th>tr</th>    <td>1631.4</td>    <td>1522.6</td>   <td>1.0714</td>  <td>0.2841</td>   <td>-1354.7</td>  <td>4617.5</td>  \n",
              "</tr>\n",
              "<tr>\n",
              "  <th>sent</th>  <td>9660.9</td>    <td>5585.6</td>   <td>1.7296</td>  <td>0.0838</td>   <td>-1293.1</td> <td>2.061e+04</td>\n",
              "</tr>\n",
              "</table><br/><br/>F-test for Poolability: 330.41<br/>P-value: 0.0000<br/>Distribution: F(11,2032)<br/><br/>Included effects: Entity<br/>id: 0x7ff9344607d0"
            ],
            "text/plain": [
              "                          PanelOLS Estimation Summary                           \n",
              "================================================================================\n",
              "Dep. Variable:                     pe   R-squared:                        0.3376\n",
              "Estimator:                   PanelOLS   R-squared (Between):             -1.3263\n",
              "No. Observations:                2052   R-squared (Within):               0.3376\n",
              "Date:                Thu, Oct 21 2021   R-squared (Overall):             -0.6902\n",
              "Time:                        02:30:54   Log-likelihood                -1.935e+04\n",
              "Cov. Estimator:             Clustered                                           \n",
              "                                        F-statistic:                      129.43\n",
              "Entities:                          12   P-value                           0.0000\n",
              "Avg Obs:                       171.00   Distribution:                  F(8,2032)\n",
              "Min Obs:                       171.00                                           \n",
              "Max Obs:                       171.00   F-statistic (robust):             10.754\n",
              "                                        P-value                           0.0000\n",
              "Time periods:                     171   Distribution:                  F(8,2032)\n",
              "Avg Obs:                       12.000                                           \n",
              "Min Obs:                       12.000                                           \n",
              "Max Obs:                       12.000                                           \n",
              "                                                                                \n",
              "                             Parameter Estimates                              \n",
              "==============================================================================\n",
              "            Parameter  Std. Err.     T-stat    P-value    Lower CI    Upper CI\n",
              "------------------------------------------------------------------------------\n",
              "dpr           -2.3167     2.6946    -0.8598     0.3900     -7.6012      2.9677\n",
              "dta           -5.4873     16.092    -0.3410     0.7331     -37.047      26.072\n",
              "fl             22.151     147.83     0.1498     0.8809     -267.76      312.06\n",
              "mc            -0.9554     1.0477    -0.9119     0.3619     -3.0100      1.0993\n",
              "mv             3.7058     4.6379     0.7990     0.4244     -5.3897      12.801\n",
              "sgr           -50.356     32.535    -1.5477     0.1218     -114.16      13.450\n",
              "tr             1631.4     1522.6     1.0714     0.2841     -1354.7      4617.5\n",
              "sent           9660.9     5585.6     1.7296     0.0838     -1293.1   2.061e+04\n",
              "==============================================================================\n",
              "\n",
              "F-test for Poolability: 330.41\n",
              "P-value: 0.0000\n",
              "Distribution: F(11,2032)\n",
              "\n",
              "Included effects: Entity\n",
              "PanelEffectsResults, id: 0x7ff9344607d0"
            ]
          },
          "metadata": {},
          "execution_count": 146
        }
      ]
    },
    {
      "cell_type": "code",
      "metadata": {
        "id": "f4pTKmJ6sDd1"
      },
      "source": [
        ""
      ],
      "execution_count": null,
      "outputs": []
    },
    {
      "cell_type": "code",
      "metadata": {
        "colab": {
          "base_uri": "https://localhost:8080/",
          "height": 618
        },
        "id": "XTeYkLGprusC",
        "outputId": "af9295a3-d346-4dec-b08e-55efa1a633f7"
      },
      "source": [
        "re = RandomEffects(Y, df[dd]).fit(cov_type='clustered', cluster_entity=True)\n",
        "re"
      ],
      "execution_count": null,
      "outputs": [
        {
          "output_type": "execute_result",
          "data": {
            "text/html": [
              "<table class=\"simpletable\">\n",
              "<caption>RandomEffects Estimation Summary</caption>\n",
              "<tr>\n",
              "  <th>Dep. Variable:</th>           <td>pe</td>        <th>  R-squared:         </th>     <td>0.3279</td>  \n",
              "</tr>\n",
              "<tr>\n",
              "  <th>Estimator:</th>          <td>RandomEffects</td>  <th>  R-squared (Between):</th>    <td>-1.1443</td> \n",
              "</tr>\n",
              "<tr>\n",
              "  <th>No. Observations:</th>       <td>2052</td>       <th>  R-squared (Within):</th>     <td>0.3370</td>  \n",
              "</tr>\n",
              "<tr>\n",
              "  <th>Date:</th>             <td>Thu, Oct 21 2021</td> <th>  R-squared (Overall):</th>    <td>-0.5780</td> \n",
              "</tr>\n",
              "<tr>\n",
              "  <th>Time:</th>                 <td>02:33:01</td>     <th>  Log-likelihood     </th>   <td>-1.937e+04</td>\n",
              "</tr>\n",
              "<tr>\n",
              "  <th>Cov. Estimator:</th>       <td>Clustered</td>    <th>                     </th>        <td></td>     \n",
              "</tr>\n",
              "<tr>\n",
              "  <th></th>                          <td></td>         <th>  F-statistic:       </th>     <td>124.62</td>  \n",
              "</tr>\n",
              "<tr>\n",
              "  <th>Entities:</th>                <td>12</td>        <th>  P-value            </th>     <td>0.0000</td>  \n",
              "</tr>\n",
              "<tr>\n",
              "  <th>Avg Obs:</th>               <td>171.00</td>      <th>  Distribution:      </th>    <td>F(8,2044)</td>\n",
              "</tr>\n",
              "<tr>\n",
              "  <th>Min Obs:</th>               <td>171.00</td>      <th>                     </th>        <td></td>     \n",
              "</tr>\n",
              "<tr>\n",
              "  <th>Max Obs:</th>               <td>171.00</td>      <th>  F-statistic (robust):</th>   <td>7.8779</td>  \n",
              "</tr>\n",
              "<tr>\n",
              "  <th></th>                          <td></td>         <th>  P-value            </th>     <td>0.0000</td>  \n",
              "</tr>\n",
              "<tr>\n",
              "  <th>Time periods:</th>            <td>171</td>       <th>  Distribution:      </th>    <td>F(8,2044)</td>\n",
              "</tr>\n",
              "<tr>\n",
              "  <th>Avg Obs:</th>               <td>12.000</td>      <th>                     </th>        <td></td>     \n",
              "</tr>\n",
              "<tr>\n",
              "  <th>Min Obs:</th>               <td>12.000</td>      <th>                     </th>        <td></td>     \n",
              "</tr>\n",
              "<tr>\n",
              "  <th>Max Obs:</th>               <td>12.000</td>      <th>                     </th>        <td></td>     \n",
              "</tr>\n",
              "<tr>\n",
              "  <th></th>                          <td></td>         <th>                     </th>        <td></td>     \n",
              "</tr>\n",
              "</table>\n",
              "<table class=\"simpletable\">\n",
              "<caption>Parameter Estimates</caption>\n",
              "<tr>\n",
              "    <td></td>   <th>Parameter</th> <th>Std. Err.</th> <th>T-stat</th>  <th>P-value</th> <th>Lower CI</th> <th>Upper CI</th> \n",
              "</tr>\n",
              "<tr>\n",
              "  <th>dpr</th>   <td>-2.4338</td>   <td>2.7869</td>   <td>-0.8733</td> <td>0.3826</td>   <td>-7.8993</td>  <td>3.0317</td>  \n",
              "</tr>\n",
              "<tr>\n",
              "  <th>dta</th>   <td>-5.8030</td>   <td>16.506</td>   <td>-0.3516</td> <td>0.7252</td>   <td>-38.173</td>  <td>26.567</td>  \n",
              "</tr>\n",
              "<tr>\n",
              "  <th>fl</th>    <td>27.698</td>    <td>153.70</td>   <td>0.1802</td>  <td>0.8570</td>   <td>-273.72</td>  <td>329.12</td>  \n",
              "</tr>\n",
              "<tr>\n",
              "  <th>mc</th>    <td>-0.9782</td>   <td>1.0477</td>   <td>-0.9337</td> <td>0.3506</td>   <td>-3.0329</td>  <td>1.0764</td>  \n",
              "</tr>\n",
              "<tr>\n",
              "  <th>mv</th>    <td>2.8828</td>    <td>4.7474</td>   <td>0.6072</td>  <td>0.5438</td>   <td>-6.4274</td>  <td>12.193</td>  \n",
              "</tr>\n",
              "<tr>\n",
              "  <th>sgr</th>   <td>-51.219</td>   <td>33.248</td>   <td>-1.5405</td> <td>0.1236</td>   <td>-116.42</td>  <td>13.985</td>  \n",
              "</tr>\n",
              "<tr>\n",
              "  <th>tr</th>    <td>1596.2</td>    <td>1486.1</td>   <td>1.0741</td>  <td>0.2829</td>   <td>-1318.2</td>  <td>4510.5</td>  \n",
              "</tr>\n",
              "<tr>\n",
              "  <th>sent</th>  <td>9268.7</td>    <td>5517.3</td>   <td>1.6799</td>  <td>0.0931</td>   <td>-1551.3</td> <td>2.009e+04</td>\n",
              "</tr>\n",
              "</table><br/>id: 0x7ff928b9b810"
            ],
            "text/plain": [
              "                        RandomEffects Estimation Summary                        \n",
              "================================================================================\n",
              "Dep. Variable:                     pe   R-squared:                        0.3279\n",
              "Estimator:              RandomEffects   R-squared (Between):             -1.1443\n",
              "No. Observations:                2052   R-squared (Within):               0.3370\n",
              "Date:                Thu, Oct 21 2021   R-squared (Overall):             -0.5780\n",
              "Time:                        02:33:01   Log-likelihood                -1.937e+04\n",
              "Cov. Estimator:             Clustered                                           \n",
              "                                        F-statistic:                      124.62\n",
              "Entities:                          12   P-value                           0.0000\n",
              "Avg Obs:                       171.00   Distribution:                  F(8,2044)\n",
              "Min Obs:                       171.00                                           \n",
              "Max Obs:                       171.00   F-statistic (robust):             7.8779\n",
              "                                        P-value                           0.0000\n",
              "Time periods:                     171   Distribution:                  F(8,2044)\n",
              "Avg Obs:                       12.000                                           \n",
              "Min Obs:                       12.000                                           \n",
              "Max Obs:                       12.000                                           \n",
              "                                                                                \n",
              "                             Parameter Estimates                              \n",
              "==============================================================================\n",
              "            Parameter  Std. Err.     T-stat    P-value    Lower CI    Upper CI\n",
              "------------------------------------------------------------------------------\n",
              "dpr           -2.4338     2.7869    -0.8733     0.3826     -7.8993      3.0317\n",
              "dta           -5.8030     16.506    -0.3516     0.7252     -38.173      26.567\n",
              "fl             27.698     153.70     0.1802     0.8570     -273.72      329.12\n",
              "mc            -0.9782     1.0477    -0.9337     0.3506     -3.0329      1.0764\n",
              "mv             2.8828     4.7474     0.6072     0.5438     -6.4274      12.193\n",
              "sgr           -51.219     33.248    -1.5405     0.1236     -116.42      13.985\n",
              "tr             1596.2     1486.1     1.0741     0.2829     -1318.2      4510.5\n",
              "sent           9268.7     5517.3     1.6799     0.0931     -1551.3   2.009e+04\n",
              "==============================================================================\n",
              "RandomEffectsResults, id: 0x7ff928b9b810"
            ]
          },
          "metadata": {},
          "execution_count": 149
        }
      ]
    },
    {
      "cell_type": "code",
      "metadata": {
        "id": "bjIFYCJesUFE"
      },
      "source": [
        ""
      ],
      "execution_count": null,
      "outputs": []
    }
  ]
}